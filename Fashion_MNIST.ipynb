{
  "cells": [
    {
      "cell_type": "code",
      "execution_count": 1,
      "metadata": {
        "colab": {
          "base_uri": "https://localhost:8080/"
        },
        "id": "3Q1EJnX4q6vg",
        "outputId": "9ffc1882-5dc1-4739-8d0d-57546d2fd4ff"
      },
      "outputs": [
        {
          "name": "stdout",
          "output_type": "stream",
          "text": [
            "Requirement already satisfied: opendatasets in /usr/local/lib/python3.10/dist-packages (0.1.22)\n",
            "Requirement already satisfied: tqdm in /usr/local/lib/python3.10/dist-packages (from opendatasets) (4.66.2)\n",
            "Requirement already satisfied: kaggle in /usr/local/lib/python3.10/dist-packages (from opendatasets) (1.6.12)\n",
            "Requirement already satisfied: click in /usr/local/lib/python3.10/dist-packages (from opendatasets) (8.1.7)\n",
            "Requirement already satisfied: six>=1.10 in /usr/local/lib/python3.10/dist-packages (from kaggle->opendatasets) (1.16.0)\n",
            "Requirement already satisfied: certifi>=2023.7.22 in /usr/local/lib/python3.10/dist-packages (from kaggle->opendatasets) (2024.2.2)\n",
            "Requirement already satisfied: python-dateutil in /usr/local/lib/python3.10/dist-packages (from kaggle->opendatasets) (2.8.2)\n",
            "Requirement already satisfied: requests in /usr/local/lib/python3.10/dist-packages (from kaggle->opendatasets) (2.31.0)\n",
            "Requirement already satisfied: python-slugify in /usr/local/lib/python3.10/dist-packages (from kaggle->opendatasets) (8.0.4)\n",
            "Requirement already satisfied: urllib3 in /usr/local/lib/python3.10/dist-packages (from kaggle->opendatasets) (2.0.7)\n",
            "Requirement already satisfied: bleach in /usr/local/lib/python3.10/dist-packages (from kaggle->opendatasets) (6.1.0)\n",
            "Requirement already satisfied: webencodings in /usr/local/lib/python3.10/dist-packages (from bleach->kaggle->opendatasets) (0.5.1)\n",
            "Requirement already satisfied: text-unidecode>=1.3 in /usr/local/lib/python3.10/dist-packages (from python-slugify->kaggle->opendatasets) (1.3)\n",
            "Requirement already satisfied: charset-normalizer<4,>=2 in /usr/local/lib/python3.10/dist-packages (from requests->kaggle->opendatasets) (3.3.2)\n",
            "Requirement already satisfied: idna<4,>=2.5 in /usr/local/lib/python3.10/dist-packages (from requests->kaggle->opendatasets) (3.7)\n"
          ]
        }
      ],
      "source": [
        "pip install opendatasets"
      ]
    },
    {
      "cell_type": "code",
      "execution_count": 2,
      "metadata": {
        "id": "sdCMA_UJr1Xn"
      },
      "outputs": [],
      "source": [
        "import opendatasets as od"
      ]
    },
    {
      "cell_type": "code",
      "execution_count": 3,
      "metadata": {
        "colab": {
          "base_uri": "https://localhost:8080/"
        },
        "id": "HRwgczA9rAIF",
        "outputId": "5ae067b7-7fc1-4fa8-ef6b-6d84d901170e"
      },
      "outputs": [
        {
          "name": "stdout",
          "output_type": "stream",
          "text": [
            "Skipping, found downloaded files in \"./fashionmnist\" (use force=True to force download)\n"
          ]
        }
      ],
      "source": [
        "od.download(\"https://www.kaggle.com/datasets/zalando-research/fashionmnist/\")"
      ]
    },
    {
      "cell_type": "code",
      "execution_count": 4,
      "metadata": {
        "id": "Spcgv5oTnsJK"
      },
      "outputs": [],
      "source": [
        "import pandas as pd\n",
        "import numpy as np\n",
        "import matplotlib.pyplot as plt\n",
        "from sklearn.model_selection import train_test_split\n",
        "\n",
        "from keras.models import Sequential\n",
        "from keras.layers import Conv2D, MaxPooling2D, Dropout, Flatten, Dense\n",
        "from keras.optimizers import Adam"
      ]
    },
    {
      "cell_type": "markdown",
      "metadata": {},
      "source": [
        "Creating pandas dataframes for train and test datasets"
      ]
    },
    {
      "cell_type": "code",
      "execution_count": 5,
      "metadata": {
        "id": "y7doxd80psG2"
      },
      "outputs": [],
      "source": [
        "train_df = pd.read_csv('/content/fashionmnist/fashion-mnist_train.csv')\n",
        "test_df = pd.read_csv('/content/fashionmnist/fashion-mnist_test.csv')"
      ]
    },
    {
      "cell_type": "markdown",
      "metadata": {},
      "source": [
        "\n",
        "EDA"
      ]
    },
    {
      "cell_type": "code",
      "execution_count": 6,
      "metadata": {
        "colab": {
          "base_uri": "https://localhost:8080/"
        },
        "id": "mui1gJhdnsJP",
        "outputId": "717beb93-8aab-4709-d52e-c11273534a80"
      },
      "outputs": [
        {
          "data": {
            "text/plain": [
              "((60000, 785), (10000, 785))"
            ]
          },
          "execution_count": 6,
          "metadata": {},
          "output_type": "execute_result"
        }
      ],
      "source": [
        "train_df.shape, test_df.shape"
      ]
    },
    {
      "cell_type": "code",
      "execution_count": 7,
      "metadata": {
        "colab": {
          "base_uri": "https://localhost:8080/",
          "height": 256
        },
        "id": "r5r1zLS5nsJS",
        "outputId": "d6cdfe1e-3cfd-467c-9ed2-c15a267a6c71"
      },
      "outputs": [
        {
          "data": {
            "application/vnd.google.colaboratory.intrinsic+json": {
              "type": "dataframe",
              "variable_name": "train_df"
            },
            "text/html": [
              "\n",
              "  <div id=\"df-30107ed9-2930-4175-a96a-5876872aae46\" class=\"colab-df-container\">\n",
              "    <div>\n",
              "<style scoped>\n",
              "    .dataframe tbody tr th:only-of-type {\n",
              "        vertical-align: middle;\n",
              "    }\n",
              "\n",
              "    .dataframe tbody tr th {\n",
              "        vertical-align: top;\n",
              "    }\n",
              "\n",
              "    .dataframe thead th {\n",
              "        text-align: right;\n",
              "    }\n",
              "</style>\n",
              "<table border=\"1\" class=\"dataframe\">\n",
              "  <thead>\n",
              "    <tr style=\"text-align: right;\">\n",
              "      <th></th>\n",
              "      <th>label</th>\n",
              "      <th>pixel1</th>\n",
              "      <th>pixel2</th>\n",
              "      <th>pixel3</th>\n",
              "      <th>pixel4</th>\n",
              "      <th>pixel5</th>\n",
              "      <th>pixel6</th>\n",
              "      <th>pixel7</th>\n",
              "      <th>pixel8</th>\n",
              "      <th>pixel9</th>\n",
              "      <th>...</th>\n",
              "      <th>pixel775</th>\n",
              "      <th>pixel776</th>\n",
              "      <th>pixel777</th>\n",
              "      <th>pixel778</th>\n",
              "      <th>pixel779</th>\n",
              "      <th>pixel780</th>\n",
              "      <th>pixel781</th>\n",
              "      <th>pixel782</th>\n",
              "      <th>pixel783</th>\n",
              "      <th>pixel784</th>\n",
              "    </tr>\n",
              "  </thead>\n",
              "  <tbody>\n",
              "    <tr>\n",
              "      <th>0</th>\n",
              "      <td>2</td>\n",
              "      <td>0</td>\n",
              "      <td>0</td>\n",
              "      <td>0</td>\n",
              "      <td>0</td>\n",
              "      <td>0</td>\n",
              "      <td>0</td>\n",
              "      <td>0</td>\n",
              "      <td>0</td>\n",
              "      <td>0</td>\n",
              "      <td>...</td>\n",
              "      <td>0</td>\n",
              "      <td>0</td>\n",
              "      <td>0</td>\n",
              "      <td>0</td>\n",
              "      <td>0</td>\n",
              "      <td>0</td>\n",
              "      <td>0</td>\n",
              "      <td>0</td>\n",
              "      <td>0</td>\n",
              "      <td>0</td>\n",
              "    </tr>\n",
              "    <tr>\n",
              "      <th>1</th>\n",
              "      <td>9</td>\n",
              "      <td>0</td>\n",
              "      <td>0</td>\n",
              "      <td>0</td>\n",
              "      <td>0</td>\n",
              "      <td>0</td>\n",
              "      <td>0</td>\n",
              "      <td>0</td>\n",
              "      <td>0</td>\n",
              "      <td>0</td>\n",
              "      <td>...</td>\n",
              "      <td>0</td>\n",
              "      <td>0</td>\n",
              "      <td>0</td>\n",
              "      <td>0</td>\n",
              "      <td>0</td>\n",
              "      <td>0</td>\n",
              "      <td>0</td>\n",
              "      <td>0</td>\n",
              "      <td>0</td>\n",
              "      <td>0</td>\n",
              "    </tr>\n",
              "    <tr>\n",
              "      <th>2</th>\n",
              "      <td>6</td>\n",
              "      <td>0</td>\n",
              "      <td>0</td>\n",
              "      <td>0</td>\n",
              "      <td>0</td>\n",
              "      <td>0</td>\n",
              "      <td>0</td>\n",
              "      <td>0</td>\n",
              "      <td>5</td>\n",
              "      <td>0</td>\n",
              "      <td>...</td>\n",
              "      <td>0</td>\n",
              "      <td>0</td>\n",
              "      <td>0</td>\n",
              "      <td>30</td>\n",
              "      <td>43</td>\n",
              "      <td>0</td>\n",
              "      <td>0</td>\n",
              "      <td>0</td>\n",
              "      <td>0</td>\n",
              "      <td>0</td>\n",
              "    </tr>\n",
              "    <tr>\n",
              "      <th>3</th>\n",
              "      <td>0</td>\n",
              "      <td>0</td>\n",
              "      <td>0</td>\n",
              "      <td>0</td>\n",
              "      <td>1</td>\n",
              "      <td>2</td>\n",
              "      <td>0</td>\n",
              "      <td>0</td>\n",
              "      <td>0</td>\n",
              "      <td>0</td>\n",
              "      <td>...</td>\n",
              "      <td>3</td>\n",
              "      <td>0</td>\n",
              "      <td>0</td>\n",
              "      <td>0</td>\n",
              "      <td>0</td>\n",
              "      <td>1</td>\n",
              "      <td>0</td>\n",
              "      <td>0</td>\n",
              "      <td>0</td>\n",
              "      <td>0</td>\n",
              "    </tr>\n",
              "    <tr>\n",
              "      <th>4</th>\n",
              "      <td>3</td>\n",
              "      <td>0</td>\n",
              "      <td>0</td>\n",
              "      <td>0</td>\n",
              "      <td>0</td>\n",
              "      <td>0</td>\n",
              "      <td>0</td>\n",
              "      <td>0</td>\n",
              "      <td>0</td>\n",
              "      <td>0</td>\n",
              "      <td>...</td>\n",
              "      <td>0</td>\n",
              "      <td>0</td>\n",
              "      <td>0</td>\n",
              "      <td>0</td>\n",
              "      <td>0</td>\n",
              "      <td>0</td>\n",
              "      <td>0</td>\n",
              "      <td>0</td>\n",
              "      <td>0</td>\n",
              "      <td>0</td>\n",
              "    </tr>\n",
              "  </tbody>\n",
              "</table>\n",
              "<p>5 rows × 785 columns</p>\n",
              "</div>\n",
              "    <div class=\"colab-df-buttons\">\n",
              "\n",
              "  <div class=\"colab-df-container\">\n",
              "    <button class=\"colab-df-convert\" onclick=\"convertToInteractive('df-30107ed9-2930-4175-a96a-5876872aae46')\"\n",
              "            title=\"Convert this dataframe to an interactive table.\"\n",
              "            style=\"display:none;\">\n",
              "\n",
              "  <svg xmlns=\"http://www.w3.org/2000/svg\" height=\"24px\" viewBox=\"0 -960 960 960\">\n",
              "    <path d=\"M120-120v-720h720v720H120Zm60-500h600v-160H180v160Zm220 220h160v-160H400v160Zm0 220h160v-160H400v160ZM180-400h160v-160H180v160Zm440 0h160v-160H620v160ZM180-180h160v-160H180v160Zm440 0h160v-160H620v160Z\"/>\n",
              "  </svg>\n",
              "    </button>\n",
              "\n",
              "  <style>\n",
              "    .colab-df-container {\n",
              "      display:flex;\n",
              "      gap: 12px;\n",
              "    }\n",
              "\n",
              "    .colab-df-convert {\n",
              "      background-color: #E8F0FE;\n",
              "      border: none;\n",
              "      border-radius: 50%;\n",
              "      cursor: pointer;\n",
              "      display: none;\n",
              "      fill: #1967D2;\n",
              "      height: 32px;\n",
              "      padding: 0 0 0 0;\n",
              "      width: 32px;\n",
              "    }\n",
              "\n",
              "    .colab-df-convert:hover {\n",
              "      background-color: #E2EBFA;\n",
              "      box-shadow: 0px 1px 2px rgba(60, 64, 67, 0.3), 0px 1px 3px 1px rgba(60, 64, 67, 0.15);\n",
              "      fill: #174EA6;\n",
              "    }\n",
              "\n",
              "    .colab-df-buttons div {\n",
              "      margin-bottom: 4px;\n",
              "    }\n",
              "\n",
              "    [theme=dark] .colab-df-convert {\n",
              "      background-color: #3B4455;\n",
              "      fill: #D2E3FC;\n",
              "    }\n",
              "\n",
              "    [theme=dark] .colab-df-convert:hover {\n",
              "      background-color: #434B5C;\n",
              "      box-shadow: 0px 1px 3px 1px rgba(0, 0, 0, 0.15);\n",
              "      filter: drop-shadow(0px 1px 2px rgba(0, 0, 0, 0.3));\n",
              "      fill: #FFFFFF;\n",
              "    }\n",
              "  </style>\n",
              "\n",
              "    <script>\n",
              "      const buttonEl =\n",
              "        document.querySelector('#df-30107ed9-2930-4175-a96a-5876872aae46 button.colab-df-convert');\n",
              "      buttonEl.style.display =\n",
              "        google.colab.kernel.accessAllowed ? 'block' : 'none';\n",
              "\n",
              "      async function convertToInteractive(key) {\n",
              "        const element = document.querySelector('#df-30107ed9-2930-4175-a96a-5876872aae46');\n",
              "        const dataTable =\n",
              "          await google.colab.kernel.invokeFunction('convertToInteractive',\n",
              "                                                    [key], {});\n",
              "        if (!dataTable) return;\n",
              "\n",
              "        const docLinkHtml = 'Like what you see? Visit the ' +\n",
              "          '<a target=\"_blank\" href=https://colab.research.google.com/notebooks/data_table.ipynb>data table notebook</a>'\n",
              "          + ' to learn more about interactive tables.';\n",
              "        element.innerHTML = '';\n",
              "        dataTable['output_type'] = 'display_data';\n",
              "        await google.colab.output.renderOutput(dataTable, element);\n",
              "        const docLink = document.createElement('div');\n",
              "        docLink.innerHTML = docLinkHtml;\n",
              "        element.appendChild(docLink);\n",
              "      }\n",
              "    </script>\n",
              "  </div>\n",
              "\n",
              "\n",
              "<div id=\"df-17197927-65d9-4e7b-934c-a96af6245b85\">\n",
              "  <button class=\"colab-df-quickchart\" onclick=\"quickchart('df-17197927-65d9-4e7b-934c-a96af6245b85')\"\n",
              "            title=\"Suggest charts\"\n",
              "            style=\"display:none;\">\n",
              "\n",
              "<svg xmlns=\"http://www.w3.org/2000/svg\" height=\"24px\"viewBox=\"0 0 24 24\"\n",
              "     width=\"24px\">\n",
              "    <g>\n",
              "        <path d=\"M19 3H5c-1.1 0-2 .9-2 2v14c0 1.1.9 2 2 2h14c1.1 0 2-.9 2-2V5c0-1.1-.9-2-2-2zM9 17H7v-7h2v7zm4 0h-2V7h2v10zm4 0h-2v-4h2v4z\"/>\n",
              "    </g>\n",
              "</svg>\n",
              "  </button>\n",
              "\n",
              "<style>\n",
              "  .colab-df-quickchart {\n",
              "      --bg-color: #E8F0FE;\n",
              "      --fill-color: #1967D2;\n",
              "      --hover-bg-color: #E2EBFA;\n",
              "      --hover-fill-color: #174EA6;\n",
              "      --disabled-fill-color: #AAA;\n",
              "      --disabled-bg-color: #DDD;\n",
              "  }\n",
              "\n",
              "  [theme=dark] .colab-df-quickchart {\n",
              "      --bg-color: #3B4455;\n",
              "      --fill-color: #D2E3FC;\n",
              "      --hover-bg-color: #434B5C;\n",
              "      --hover-fill-color: #FFFFFF;\n",
              "      --disabled-bg-color: #3B4455;\n",
              "      --disabled-fill-color: #666;\n",
              "  }\n",
              "\n",
              "  .colab-df-quickchart {\n",
              "    background-color: var(--bg-color);\n",
              "    border: none;\n",
              "    border-radius: 50%;\n",
              "    cursor: pointer;\n",
              "    display: none;\n",
              "    fill: var(--fill-color);\n",
              "    height: 32px;\n",
              "    padding: 0;\n",
              "    width: 32px;\n",
              "  }\n",
              "\n",
              "  .colab-df-quickchart:hover {\n",
              "    background-color: var(--hover-bg-color);\n",
              "    box-shadow: 0 1px 2px rgba(60, 64, 67, 0.3), 0 1px 3px 1px rgba(60, 64, 67, 0.15);\n",
              "    fill: var(--button-hover-fill-color);\n",
              "  }\n",
              "\n",
              "  .colab-df-quickchart-complete:disabled,\n",
              "  .colab-df-quickchart-complete:disabled:hover {\n",
              "    background-color: var(--disabled-bg-color);\n",
              "    fill: var(--disabled-fill-color);\n",
              "    box-shadow: none;\n",
              "  }\n",
              "\n",
              "  .colab-df-spinner {\n",
              "    border: 2px solid var(--fill-color);\n",
              "    border-color: transparent;\n",
              "    border-bottom-color: var(--fill-color);\n",
              "    animation:\n",
              "      spin 1s steps(1) infinite;\n",
              "  }\n",
              "\n",
              "  @keyframes spin {\n",
              "    0% {\n",
              "      border-color: transparent;\n",
              "      border-bottom-color: var(--fill-color);\n",
              "      border-left-color: var(--fill-color);\n",
              "    }\n",
              "    20% {\n",
              "      border-color: transparent;\n",
              "      border-left-color: var(--fill-color);\n",
              "      border-top-color: var(--fill-color);\n",
              "    }\n",
              "    30% {\n",
              "      border-color: transparent;\n",
              "      border-left-color: var(--fill-color);\n",
              "      border-top-color: var(--fill-color);\n",
              "      border-right-color: var(--fill-color);\n",
              "    }\n",
              "    40% {\n",
              "      border-color: transparent;\n",
              "      border-right-color: var(--fill-color);\n",
              "      border-top-color: var(--fill-color);\n",
              "    }\n",
              "    60% {\n",
              "      border-color: transparent;\n",
              "      border-right-color: var(--fill-color);\n",
              "    }\n",
              "    80% {\n",
              "      border-color: transparent;\n",
              "      border-right-color: var(--fill-color);\n",
              "      border-bottom-color: var(--fill-color);\n",
              "    }\n",
              "    90% {\n",
              "      border-color: transparent;\n",
              "      border-bottom-color: var(--fill-color);\n",
              "    }\n",
              "  }\n",
              "</style>\n",
              "\n",
              "  <script>\n",
              "    async function quickchart(key) {\n",
              "      const quickchartButtonEl =\n",
              "        document.querySelector('#' + key + ' button');\n",
              "      quickchartButtonEl.disabled = true;  // To prevent multiple clicks.\n",
              "      quickchartButtonEl.classList.add('colab-df-spinner');\n",
              "      try {\n",
              "        const charts = await google.colab.kernel.invokeFunction(\n",
              "            'suggestCharts', [key], {});\n",
              "      } catch (error) {\n",
              "        console.error('Error during call to suggestCharts:', error);\n",
              "      }\n",
              "      quickchartButtonEl.classList.remove('colab-df-spinner');\n",
              "      quickchartButtonEl.classList.add('colab-df-quickchart-complete');\n",
              "    }\n",
              "    (() => {\n",
              "      let quickchartButtonEl =\n",
              "        document.querySelector('#df-17197927-65d9-4e7b-934c-a96af6245b85 button');\n",
              "      quickchartButtonEl.style.display =\n",
              "        google.colab.kernel.accessAllowed ? 'block' : 'none';\n",
              "    })();\n",
              "  </script>\n",
              "</div>\n",
              "\n",
              "    </div>\n",
              "  </div>\n"
            ],
            "text/plain": [
              "   label  pixel1  pixel2  pixel3  pixel4  pixel5  pixel6  pixel7  pixel8  \\\n",
              "0      2       0       0       0       0       0       0       0       0   \n",
              "1      9       0       0       0       0       0       0       0       0   \n",
              "2      6       0       0       0       0       0       0       0       5   \n",
              "3      0       0       0       0       1       2       0       0       0   \n",
              "4      3       0       0       0       0       0       0       0       0   \n",
              "\n",
              "   pixel9  ...  pixel775  pixel776  pixel777  pixel778  pixel779  pixel780  \\\n",
              "0       0  ...         0         0         0         0         0         0   \n",
              "1       0  ...         0         0         0         0         0         0   \n",
              "2       0  ...         0         0         0        30        43         0   \n",
              "3       0  ...         3         0         0         0         0         1   \n",
              "4       0  ...         0         0         0         0         0         0   \n",
              "\n",
              "   pixel781  pixel782  pixel783  pixel784  \n",
              "0         0         0         0         0  \n",
              "1         0         0         0         0  \n",
              "2         0         0         0         0  \n",
              "3         0         0         0         0  \n",
              "4         0         0         0         0  \n",
              "\n",
              "[5 rows x 785 columns]"
            ]
          },
          "execution_count": 7,
          "metadata": {},
          "output_type": "execute_result"
        }
      ],
      "source": [
        "train_df.head()"
      ]
    },
    {
      "cell_type": "markdown",
      "metadata": {},
      "source": [
        "Converting the dataframes into numpy arrays of float32 type which is the acceptable form for TensorFlow and Keras"
      ]
    },
    {
      "cell_type": "code",
      "execution_count": 8,
      "metadata": {
        "id": "CwzrhUHknsJU"
      },
      "outputs": [],
      "source": [
        "train_data = np.array(train_df, dtype='float32')\n",
        "test_data = np.array(test_df, dtype='float32')"
      ]
    },
    {
      "cell_type": "markdown",
      "metadata": {},
      "source": [
        "Rescaling X_train and X_test (not y_train and y_test) from 0, 255 to 0, 1"
      ]
    },
    {
      "cell_type": "code",
      "execution_count": 9,
      "metadata": {
        "id": "nYEPVRpRnsJV"
      },
      "outputs": [],
      "source": [
        "X_train = train_data[:, 1:]/255\n",
        "X_test = test_data[:, 1:]/255\n",
        "y_train = train_data[:, 0]\n",
        "y_test = test_data[:, 0]"
      ]
    },
    {
      "cell_type": "code",
      "execution_count": 10,
      "metadata": {
        "colab": {
          "base_uri": "https://localhost:8080/"
        },
        "id": "EB3dsBH1nsJX",
        "outputId": "d51751c1-3530-4162-cab7-917011d01d5f"
      },
      "outputs": [
        {
          "data": {
            "text/plain": [
              "(60000, 784)"
            ]
          },
          "execution_count": 10,
          "metadata": {},
          "output_type": "execute_result"
        }
      ],
      "source": [
        "X_train.shape"
      ]
    },
    {
      "cell_type": "markdown",
      "metadata": {},
      "source": [
        "Spliting the training data into train and validation "
      ]
    },
    {
      "cell_type": "code",
      "execution_count": 11,
      "metadata": {
        "id": "19LzkoI7nsJZ"
      },
      "outputs": [],
      "source": [
        "X_train, X_val, y_train, y_val = train_test_split(X_train, y_train, test_size=0.2, random_state=42)"
      ]
    },
    {
      "cell_type": "markdown",
      "metadata": {},
      "source": [
        "Visualising a random image"
      ]
    },
    {
      "cell_type": "code",
      "execution_count": 12,
      "metadata": {
        "colab": {
          "base_uri": "https://localhost:8080/",
          "height": 254
        },
        "id": "4pD5hsOWnsJZ",
        "outputId": "c46775ce-ab9f-4772-8c5d-0c35ee8f5985"
      },
      "outputs": [
        {
          "data": {
            "text/plain": [
              "Text(0.5, 1.0, 'Ankle boot')"
            ]
          },
          "execution_count": 12,
          "metadata": {},
          "output_type": "execute_result"
        },
        {
          "data": {
            "image/png": "[encoded data removed]",
            "text/plain": [
              "<Figure size 200x200 with 1 Axes>"
            ]
          },
          "metadata": {},
          "output_type": "display_data"
        }
      ],
      "source": [
        "# Alter i to get desired image\n",
        "i = 7\n",
        "\n",
        "class_names = {0:'T_shirt/top', 1:'Trouser', 2:'Pullover', 3:'Dress', 4:'Coat',\n",
        "               5:'Sandal', 6:'Shirt', 7:'Sneaker', 8:'Bag', 9:'Ankle boot'}\n",
        "\n",
        "plt.figure(figsize=(2,2))\n",
        "plt.imshow(X_train[i].reshape(28,28))\n",
        "label_index = int(y_train[i])\n",
        "plt.title(class_names[label_index])"
      ]
    },
    {
      "cell_type": "code",
      "execution_count": 13,
      "metadata": {
        "colab": {
          "base_uri": "https://localhost:8080/"
        },
        "id": "aEPNd9LrnsJb",
        "outputId": "b90bb703-c100-49d0-9956-10161aee07b0"
      },
      "outputs": [
        {
          "data": {
            "text/plain": [
              "(48000, 10000)"
            ]
          },
          "execution_count": 13,
          "metadata": {},
          "output_type": "execute_result"
        }
      ],
      "source": [
        "X_train.shape[0], X_test.shape[0]"
      ]
    },
    {
      "cell_type": "markdown",
      "metadata": {},
      "source": [
        "Defining the shape of the image as 3d with rows and columns and 1 for the 3d visualisation"
      ]
    },
    {
      "cell_type": "code",
      "execution_count": 14,
      "metadata": {
        "id": "7tob6saInsJc"
      },
      "outputs": [],
      "source": [
        "image_rows = 28\n",
        "image_cols = 28\n",
        "input_shape = (image_rows, image_cols, 1)"
      ]
    },
    {
      "cell_type": "code",
      "execution_count": 15,
      "metadata": {
        "id": "xd6qC0UansJd"
      },
      "outputs": [],
      "source": [
        "X_train = X_train.reshape(X_train.shape[0], image_rows, image_cols, 1)\n",
        "X_val = X_val.reshape(X_val.shape[0], image_rows, image_cols, 1)\n",
        "X_test = X_test.reshape(X_test.shape[0], image_rows, image_cols, 1)"
      ]
    },
    {
      "cell_type": "markdown",
      "metadata": {
        "id": "K3jmcfc_nsJe"
      },
      "source": [
        "Defining a basic Convolutional Neural Network (CNN) model"
      ]
    },
    {
      "cell_type": "code",
      "execution_count": 16,
      "metadata": {
        "id": "K3amYuIVnsJh"
      },
      "outputs": [],
      "source": [
        "cnn_model = Sequential([\n",
        "    Conv2D(filters=32, kernel_size=3, activation='relu', input_shape=input_shape),\n",
        "    MaxPooling2D(pool_size=2),\n",
        "    Dropout(0.2),\n",
        "    Flatten(),\n",
        "    Dense(32, activation='relu'),\n",
        "    Dense(len(class_names), activation='softmax')\n",
        "])"
      ]
    },
    {
      "cell_type": "code",
      "execution_count": 17,
      "metadata": {
        "id": "z3uQbuz8v5Tk"
      },
      "outputs": [],
      "source": [
        "cnn_model.compile(\n",
        "    loss='sparse_categorical_crossentropy',\n",
        "    optimizer=Adam(learning_rate=0.001),\n",
        "    metrics = ['accuracy']\n",
        ")"
      ]
    },
    {
      "cell_type": "markdown",
      "metadata": {},
      "source": [
        "Training the model by fitting the model to the training data"
      ]
    },
    {
      "cell_type": "code",
      "execution_count": 18,
      "metadata": {
        "colab": {
          "base_uri": "https://localhost:8080/"
        },
        "id": "X8gI25PUxCJk",
        "outputId": "d3802198-3c2d-44e6-f3c9-71c3024329b1"
      },
      "outputs": [
        {
          "name": "stdout",
          "output_type": "stream",
          "text": [
            "Epoch 1/75\n",
            "12/12 [==============================] - 10s 182ms/step - loss: 1.8315 - accuracy: 0.4535 - val_loss: 1.2307 - val_accuracy: 0.6747\n",
            "Epoch 2/75\n",
            "12/12 [==============================] - 1s 72ms/step - loss: 0.9441 - accuracy: 0.7263 - val_loss: 0.7252 - val_accuracy: 0.7542\n",
            "Epoch 3/75\n",
            "12/12 [==============================] - 1s 68ms/step - loss: 0.6660 - accuracy: 0.7722 - val_loss: 0.6142 - val_accuracy: 0.7843\n",
            "Epoch 4/75\n",
            "12/12 [==============================] - 1s 68ms/step - loss: 0.5857 - accuracy: 0.7970 - val_loss: 0.5465 - val_accuracy: 0.8014\n",
            "Epoch 5/75\n",
            "12/12 [==============================] - 1s 68ms/step - loss: 0.5308 - accuracy: 0.8157 - val_loss: 0.5052 - val_accuracy: 0.8227\n",
            "Epoch 6/75\n",
            "12/12 [==============================] - 1s 62ms/step - loss: 0.4975 - accuracy: 0.8278 - val_loss: 0.4756 - val_accuracy: 0.8327\n",
            "Epoch 7/75\n",
            "12/12 [==============================] - 1s 72ms/step - loss: 0.4704 - accuracy: 0.8371 - val_loss: 0.4576 - val_accuracy: 0.8382\n",
            "Epoch 8/75\n",
            "12/12 [==============================] - 1s 71ms/step - loss: 0.4510 - accuracy: 0.8421 - val_loss: 0.4341 - val_accuracy: 0.8495\n",
            "Epoch 9/75\n",
            "12/12 [==============================] - 1s 68ms/step - loss: 0.4312 - accuracy: 0.8505 - val_loss: 0.4255 - val_accuracy: 0.8528\n",
            "Epoch 10/75\n",
            "12/12 [==============================] - 1s 89ms/step - loss: 0.4185 - accuracy: 0.8541 - val_loss: 0.4117 - val_accuracy: 0.8588\n",
            "Epoch 11/75\n",
            "12/12 [==============================] - 1s 80ms/step - loss: 0.4059 - accuracy: 0.8579 - val_loss: 0.4010 - val_accuracy: 0.8568\n",
            "Epoch 12/75\n",
            "12/12 [==============================] - 1s 96ms/step - loss: 0.3924 - accuracy: 0.8642 - val_loss: 0.3885 - val_accuracy: 0.8656\n",
            "Epoch 13/75\n",
            "12/12 [==============================] - 1s 74ms/step - loss: 0.3830 - accuracy: 0.8678 - val_loss: 0.3784 - val_accuracy: 0.8665\n",
            "Epoch 14/75\n",
            "12/12 [==============================] - 1s 71ms/step - loss: 0.3752 - accuracy: 0.8703 - val_loss: 0.3710 - val_accuracy: 0.8720\n",
            "Epoch 15/75\n",
            "12/12 [==============================] - 1s 68ms/step - loss: 0.3690 - accuracy: 0.8721 - val_loss: 0.3805 - val_accuracy: 0.8662\n",
            "Epoch 16/75\n",
            "12/12 [==============================] - 1s 69ms/step - loss: 0.3667 - accuracy: 0.8713 - val_loss: 0.3587 - val_accuracy: 0.8773\n",
            "Epoch 17/75\n",
            "12/12 [==============================] - 1s 54ms/step - loss: 0.3556 - accuracy: 0.8764 - val_loss: 0.3555 - val_accuracy: 0.8768\n",
            "Epoch 18/75\n",
            "12/12 [==============================] - 1s 48ms/step - loss: 0.3492 - accuracy: 0.8785 - val_loss: 0.3549 - val_accuracy: 0.8762\n",
            "Epoch 19/75\n",
            "12/12 [==============================] - 1s 49ms/step - loss: 0.3419 - accuracy: 0.8814 - val_loss: 0.3435 - val_accuracy: 0.8806\n",
            "Epoch 20/75\n",
            "12/12 [==============================] - 1s 49ms/step - loss: 0.3384 - accuracy: 0.8823 - val_loss: 0.3453 - val_accuracy: 0.8793\n",
            "Epoch 21/75\n",
            "12/12 [==============================] - 1s 48ms/step - loss: 0.3325 - accuracy: 0.8838 - val_loss: 0.3366 - val_accuracy: 0.8827\n",
            "Epoch 22/75\n",
            "12/12 [==============================] - 1s 46ms/step - loss: 0.3281 - accuracy: 0.8848 - val_loss: 0.3326 - val_accuracy: 0.8840\n",
            "Epoch 23/75\n",
            "12/12 [==============================] - 1s 48ms/step - loss: 0.3228 - accuracy: 0.8871 - val_loss: 0.3302 - val_accuracy: 0.8839\n",
            "Epoch 24/75\n",
            "12/12 [==============================] - 1s 50ms/step - loss: 0.3203 - accuracy: 0.8879 - val_loss: 0.3291 - val_accuracy: 0.8842\n",
            "Epoch 25/75\n",
            "12/12 [==============================] - 1s 47ms/step - loss: 0.3159 - accuracy: 0.8898 - val_loss: 0.3246 - val_accuracy: 0.8863\n",
            "Epoch 26/75\n",
            "12/12 [==============================] - 1s 46ms/step - loss: 0.3149 - accuracy: 0.8885 - val_loss: 0.3216 - val_accuracy: 0.8852\n",
            "Epoch 27/75\n",
            "12/12 [==============================] - 1s 51ms/step - loss: 0.3113 - accuracy: 0.8911 - val_loss: 0.3175 - val_accuracy: 0.8883\n",
            "Epoch 28/75\n",
            "12/12 [==============================] - 1s 48ms/step - loss: 0.3083 - accuracy: 0.8916 - val_loss: 0.3153 - val_accuracy: 0.8892\n",
            "Epoch 29/75\n",
            "12/12 [==============================] - 1s 49ms/step - loss: 0.3049 - accuracy: 0.8929 - val_loss: 0.3123 - val_accuracy: 0.8906\n",
            "Epoch 30/75\n",
            "12/12 [==============================] - 1s 56ms/step - loss: 0.3002 - accuracy: 0.8955 - val_loss: 0.3120 - val_accuracy: 0.8905\n",
            "Epoch 31/75\n",
            "12/12 [==============================] - 1s 50ms/step - loss: 0.2979 - accuracy: 0.8946 - val_loss: 0.3089 - val_accuracy: 0.8922\n",
            "Epoch 32/75\n",
            "12/12 [==============================] - 1s 55ms/step - loss: 0.2943 - accuracy: 0.8972 - val_loss: 0.3056 - val_accuracy: 0.8928\n",
            "Epoch 33/75\n",
            "12/12 [==============================] - 1s 55ms/step - loss: 0.2919 - accuracy: 0.8981 - val_loss: 0.3046 - val_accuracy: 0.8931\n",
            "Epoch 34/75\n",
            "12/12 [==============================] - 1s 53ms/step - loss: 0.2925 - accuracy: 0.8978 - val_loss: 0.3072 - val_accuracy: 0.8893\n",
            "Epoch 35/75\n",
            "12/12 [==============================] - 1s 47ms/step - loss: 0.2905 - accuracy: 0.8969 - val_loss: 0.3040 - val_accuracy: 0.8918\n",
            "Epoch 36/75\n",
            "12/12 [==============================] - 1s 46ms/step - loss: 0.2863 - accuracy: 0.8984 - val_loss: 0.2993 - val_accuracy: 0.8942\n",
            "Epoch 37/75\n",
            "12/12 [==============================] - 1s 49ms/step - loss: 0.2831 - accuracy: 0.9000 - val_loss: 0.3019 - val_accuracy: 0.8936\n",
            "Epoch 38/75\n",
            "12/12 [==============================] - 1s 51ms/step - loss: 0.2803 - accuracy: 0.9010 - val_loss: 0.2939 - val_accuracy: 0.8958\n",
            "Epoch 39/75\n",
            "12/12 [==============================] - 1s 56ms/step - loss: 0.2770 - accuracy: 0.9033 - val_loss: 0.2939 - val_accuracy: 0.8963\n",
            "Epoch 40/75\n",
            "12/12 [==============================] - 1s 68ms/step - loss: 0.2755 - accuracy: 0.9016 - val_loss: 0.2940 - val_accuracy: 0.8974\n",
            "Epoch 41/75\n",
            "12/12 [==============================] - 1s 58ms/step - loss: 0.2762 - accuracy: 0.9016 - val_loss: 0.2933 - val_accuracy: 0.8972\n",
            "Epoch 42/75\n",
            "12/12 [==============================] - 1s 54ms/step - loss: 0.2732 - accuracy: 0.9033 - val_loss: 0.2912 - val_accuracy: 0.8971\n",
            "Epoch 43/75\n",
            "12/12 [==============================] - 1s 50ms/step - loss: 0.2710 - accuracy: 0.9045 - val_loss: 0.2877 - val_accuracy: 0.8996\n",
            "Epoch 44/75\n",
            "12/12 [==============================] - 1s 50ms/step - loss: 0.2687 - accuracy: 0.9048 - val_loss: 0.2889 - val_accuracy: 0.8982\n",
            "Epoch 45/75\n",
            "12/12 [==============================] - 1s 49ms/step - loss: 0.2661 - accuracy: 0.9056 - val_loss: 0.2878 - val_accuracy: 0.8982\n",
            "Epoch 46/75\n",
            "12/12 [==============================] - 1s 50ms/step - loss: 0.2651 - accuracy: 0.9057 - val_loss: 0.2848 - val_accuracy: 0.8984\n",
            "Epoch 47/75\n",
            "12/12 [==============================] - 1s 51ms/step - loss: 0.2642 - accuracy: 0.9074 - val_loss: 0.2822 - val_accuracy: 0.9014\n",
            "Epoch 48/75\n",
            "12/12 [==============================] - 1s 48ms/step - loss: 0.2625 - accuracy: 0.9072 - val_loss: 0.2847 - val_accuracy: 0.8992\n",
            "Epoch 49/75\n",
            "12/12 [==============================] - 1s 46ms/step - loss: 0.2592 - accuracy: 0.9093 - val_loss: 0.2797 - val_accuracy: 0.8986\n",
            "Epoch 50/75\n",
            "12/12 [==============================] - 1s 52ms/step - loss: 0.2581 - accuracy: 0.9084 - val_loss: 0.2785 - val_accuracy: 0.9013\n",
            "Epoch 51/75\n",
            "12/12 [==============================] - 1s 54ms/step - loss: 0.2552 - accuracy: 0.9100 - val_loss: 0.2779 - val_accuracy: 0.9013\n",
            "Epoch 52/75\n",
            "12/12 [==============================] - 1s 57ms/step - loss: 0.2553 - accuracy: 0.9101 - val_loss: 0.2793 - val_accuracy: 0.8994\n",
            "Epoch 53/75\n",
            "12/12 [==============================] - 1s 57ms/step - loss: 0.2553 - accuracy: 0.9097 - val_loss: 0.2757 - val_accuracy: 0.9032\n",
            "Epoch 54/75\n",
            "12/12 [==============================] - 1s 54ms/step - loss: 0.2521 - accuracy: 0.9106 - val_loss: 0.2747 - val_accuracy: 0.9020\n",
            "Epoch 55/75\n",
            "12/12 [==============================] - 1s 49ms/step - loss: 0.2514 - accuracy: 0.9110 - val_loss: 0.2753 - val_accuracy: 0.9012\n",
            "Epoch 56/75\n",
            "12/12 [==============================] - 1s 48ms/step - loss: 0.2491 - accuracy: 0.9109 - val_loss: 0.2774 - val_accuracy: 0.9003\n",
            "Epoch 57/75\n",
            "12/12 [==============================] - 1s 50ms/step - loss: 0.2477 - accuracy: 0.9127 - val_loss: 0.2722 - val_accuracy: 0.9028\n",
            "Epoch 58/75\n",
            "12/12 [==============================] - 1s 47ms/step - loss: 0.2450 - accuracy: 0.9133 - val_loss: 0.2717 - val_accuracy: 0.9032\n",
            "Epoch 59/75\n",
            "12/12 [==============================] - 1s 47ms/step - loss: 0.2434 - accuracy: 0.9146 - val_loss: 0.2741 - val_accuracy: 0.9025\n",
            "Epoch 60/75\n",
            "12/12 [==============================] - 1s 49ms/step - loss: 0.2440 - accuracy: 0.9132 - val_loss: 0.2695 - val_accuracy: 0.9035\n",
            "Epoch 61/75\n",
            "12/12 [==============================] - 1s 48ms/step - loss: 0.2409 - accuracy: 0.9156 - val_loss: 0.2682 - val_accuracy: 0.9043\n",
            "Epoch 62/75\n",
            "12/12 [==============================] - 1s 47ms/step - loss: 0.2402 - accuracy: 0.9151 - val_loss: 0.2668 - val_accuracy: 0.9050\n",
            "Epoch 63/75\n",
            "12/12 [==============================] - 1s 48ms/step - loss: 0.2411 - accuracy: 0.9137 - val_loss: 0.2704 - val_accuracy: 0.9021\n",
            "Epoch 64/75\n",
            "12/12 [==============================] - 1s 50ms/step - loss: 0.2369 - accuracy: 0.9163 - val_loss: 0.2645 - val_accuracy: 0.9046\n",
            "Epoch 65/75\n",
            "12/12 [==============================] - 1s 47ms/step - loss: 0.2360 - accuracy: 0.9161 - val_loss: 0.2653 - val_accuracy: 0.9054\n",
            "Epoch 66/75\n",
            "12/12 [==============================] - 1s 49ms/step - loss: 0.2332 - accuracy: 0.9164 - val_loss: 0.2650 - val_accuracy: 0.9058\n",
            "Epoch 67/75\n",
            "12/12 [==============================] - 1s 50ms/step - loss: 0.2317 - accuracy: 0.9185 - val_loss: 0.2638 - val_accuracy: 0.9053\n",
            "Epoch 68/75\n",
            "12/12 [==============================] - 1s 48ms/step - loss: 0.2320 - accuracy: 0.9172 - val_loss: 0.2641 - val_accuracy: 0.9043\n",
            "Epoch 69/75\n",
            "12/12 [==============================] - 1s 47ms/step - loss: 0.2306 - accuracy: 0.9191 - val_loss: 0.2654 - val_accuracy: 0.9040\n",
            "Epoch 70/75\n",
            "12/12 [==============================] - 1s 49ms/step - loss: 0.2294 - accuracy: 0.9185 - val_loss: 0.2624 - val_accuracy: 0.9066\n",
            "Epoch 71/75\n",
            "12/12 [==============================] - 1s 49ms/step - loss: 0.2276 - accuracy: 0.9185 - val_loss: 0.2643 - val_accuracy: 0.9060\n",
            "Epoch 72/75\n",
            "12/12 [==============================] - 1s 52ms/step - loss: 0.2250 - accuracy: 0.9199 - val_loss: 0.2601 - val_accuracy: 0.9078\n",
            "Epoch 73/75\n",
            "12/12 [==============================] - 1s 54ms/step - loss: 0.2236 - accuracy: 0.9213 - val_loss: 0.2600 - val_accuracy: 0.9071\n",
            "Epoch 74/75\n",
            "12/12 [==============================] - 1s 56ms/step - loss: 0.2212 - accuracy: 0.9220 - val_loss: 0.2602 - val_accuracy: 0.9072\n",
            "Epoch 75/75\n",
            "12/12 [==============================] - 1s 53ms/step - loss: 0.2223 - accuracy: 0.9219 - val_loss: 0.2589 - val_accuracy: 0.9057\n"
          ]
        }
      ],
      "source": [
        "history = cnn_model.fit(\n",
        "    X_train,\n",
        "    y_train,\n",
        "    batch_size=4096,\n",
        "    epochs=75,\n",
        "    verbose=1,\n",
        "    validation_data= (X_val, y_val)\n",
        ")"
      ]
    },
    {
      "cell_type": "markdown",
      "metadata": {},
      "source": [
        "Evaluation"
      ]
    },
    {
      "cell_type": "code",
      "execution_count": 19,
      "metadata": {
        "colab": {
          "base_uri": "https://localhost:8080/"
        },
        "id": "iBCRfVTl2CVW",
        "outputId": "df8799c6-12b3-400c-a926-a757aa72472a"
      },
      "outputs": [
        {
          "name": "stdout",
          "output_type": "stream",
          "text": [
            "Test Loss : 0.2497\n",
            "Test Accuracy : 0.9118\n"
          ]
        }
      ],
      "source": [
        "score = cnn_model.evaluate(X_test,y_test,verbose=0)\n",
        "print('Test Loss : {:.4f}'.format(score[0]))\n",
        "print('Test Accuracy : {:.4f}'.format(score[1]))"
      ]
    }
  ],
  "metadata": {
    "accelerator": "GPU",
    "colab": {
      "gpuType": "T4",
      "provenance": []
    },
    "kernelspec": {
      "display_name": "Python 3",
      "name": "python3"
    },
    "language_info": {
      "codemirror_mode": {
        "name": "ipython",
        "version": 3
      },
      "file_extension": ".py",
      "mimetype": "text/x-python",
      "name": "python",
      "nbconvert_exporter": "python",
      "pygments_lexer": "ipython3",
      "version": "3.12.2"
    }
  },
  "nbformat": 4,
  "nbformat_minor": 0
}
